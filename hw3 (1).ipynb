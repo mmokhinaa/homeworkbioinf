{
 "cells": [
  {
   "cell_type": "code",
   "execution_count": 12,
   "id": "b9ec4435-eddc-47ac-8a33-ce243198566c",
   "metadata": {},
   "outputs": [],
   "source": [
    "import pandas as pd\n",
    "import numpy as np"
   ]
  },
  {
   "cell_type": "code",
   "execution_count": 2,
   "id": "854b1e5f-143c-4780-b64f-833a21fd21f1",
   "metadata": {},
   "outputs": [],
   "source": [
    "seq1 = \"ATCGTAGC\"\n",
    "seq2 = \"ATCGTACG\"\n",
    "seq3 = \"GCTAGCTA\"\n",
    "seq4 = \"TACGATCG\"\n",
    "rna1 = \"AUGCUAGC\"\n",
    "rna2 = \"AUGCUGCA\"\n",
    "rna3 = \"GCUAGCUA\"\n",
    "rna4 = \"UACGAUCG\"\n",
    "protein1 = \"ACDEFGHIKLMNPQRSTVWY\"\n",
    "protein2 = \"ACDFGHIKLMNPRSTVWY\"\n",
    "protein3 = \"ACDEFGHLMNPQRSTVWX\"\n",
    "protein4 = \"ABCDEFGHIJKLMN\"\n"
   ]
  },
  {
   "cell_type": "code",
   "execution_count": 38,
   "id": "f5017e2d-2ca4-48cd-be1a-796b1dc75e34",
   "metadata": {},
   "outputs": [],
   "source": [
    "#нидлман-вунш\n",
    "def needleman_wunsch(seq1, seq2, match=1, mismatch=-1, gap=-2):\n",
    "    n = len(seq1)\n",
    "    m = len(seq2)\n",
    "    \n",
    "    # создаем таблицу динамического программирования\n",
    "    dp = [[0] * (m + 1) for _ in range(n + 1)]\n",
    "    \n",
    "    # заполняем первую строку и первый столбец (для пропусков)\n",
    "    for i in range(n + 1):\n",
    "        dp[i][0] = gap * i\n",
    "    for j in range(m + 1):\n",
    "        dp[0][j] = gap * j\n",
    "    \n",
    "    # заполняем таблицу динамического программирования\n",
    "    for i in range(1, n + 1):\n",
    "        for j in range(1, m + 1):\n",
    "            score = match if seq1[i - 1] == seq2[j - 1] else mismatch\n",
    "            dp[i][j] = max(dp[i - 1][j - 1] + score,  # совпадение/несовпадение\n",
    "                           dp[i - 1][j] + gap,       # пропуск в seq2\n",
    "                           dp[i][j - 1] + gap)       # пропуск в seq1\n",
    "    \n",
    "    # Восстановление выравнивания\n",
    "    aligned_seq1 = []\n",
    "    aligned_seq2 = []\n",
    "    \n",
    "    i, j = n, m\n",
    "    while i > 0 or j > 0:\n",
    "        current_score = dp[i][j]\n",
    "        \n",
    "        # Если символы совпали или произошло несовпадение\n",
    "        if i > 0 and j > 0 and current_score == dp[i - 1][j - 1] + ((match if seq1[i - 1] == seq2[j - 1] else mismatch)):\n",
    "            aligned_seq1.append(seq1[i - 1])\n",
    "            aligned_seq2.append(seq2[j - 1])\n",
    "            i -= 1\n",
    "            j -= 1\n",
    "        # пропуск в seq2\n",
    "        elif i > 0 and current_score == dp[i - 1][j] + gap:\n",
    "            aligned_seq1.append(seq1[i - 1])\n",
    "            aligned_seq2.append('-')\n",
    "            i -= 1\n",
    "        # пропуск в seq1\n",
    "        elif j > 0 and current_score == dp[i][j - 1] + gap:\n",
    "            aligned_seq1.append('-')\n",
    "            aligned_seq2.append(seq2[j - 1])\n",
    "            j -= 1\n",
    "    \n",
    "    # Обратим строки, так как мы строили выравнивание с конца\n",
    "    aligned_seq1.reverse()\n",
    "    aligned_seq2.reverse()\n",
    "    \n",
    "    # Возвращаем итоговый результат: балл и выровненные строки\n",
    "    return dp[n][m], aligned_seq1, aligned_seq2"
   ]
  },
  {
   "cell_type": "code",
   "execution_count": 39,
   "id": "aff237a6-b940-434b-b840-ac3538bab510",
   "metadata": {},
   "outputs": [
    {
     "data": {
      "text/plain": [
       "(4,\n",
       " ['A', 'T', 'C', 'G', 'T', 'A', 'G', 'C'],\n",
       " ['A', 'T', 'C', 'G', 'T', 'A', 'C', 'G'])"
      ]
     },
     "execution_count": 39,
     "metadata": {},
     "output_type": "execute_result"
    }
   ],
   "source": [
    "needleman_wunsch(seq1, seq2)"
   ]
  },
  {
   "cell_type": "code",
   "execution_count": 40,
   "id": "2d87d12f-7a4b-4903-80cb-2e9a98907c2f",
   "metadata": {},
   "outputs": [
    {
     "data": {
      "text/plain": [
       "(-4,\n",
       " ['A', 'T', 'C', 'G', 'T', 'A', 'G', 'C', '-', '-'],\n",
       " ['-', 'G', 'C', '-', 'T', 'A', 'G', 'C', 'T', 'A'])"
      ]
     },
     "execution_count": 40,
     "metadata": {},
     "output_type": "execute_result"
    }
   ],
   "source": [
    "needleman_wunsch(seq1, seq3)"
   ]
  },
  {
   "cell_type": "code",
   "execution_count": 41,
   "id": "348bfec1-f2a6-4019-be0f-f75de60a3260",
   "metadata": {},
   "outputs": [],
   "source": [
    "def smith_waterman(seq1, seq2, match=2, mismatch=-1, gap=-1):\n",
    "    n = len(seq1)\n",
    "    m = len(seq2)\n",
    "    \n",
    "    # создаем таблицу динамического программирования\n",
    "    dp = [[0] * (m + 1) for _ in range(n + 1)]\n",
    "    max_score = 0\n",
    "    max_pos = (0, 0)\n",
    "    \n",
    "    # заполняем таблицу\n",
    "    for i in range(1, n + 1):\n",
    "        for j in range(1, m + 1):\n",
    "            score = match if seq1[i - 1] == seq2[j - 1] else mismatch\n",
    "            dp[i][j] = max(0,\n",
    "                           dp[i - 1][j - 1] + score,\n",
    "                           dp[i - 1][j] + gap,\n",
    "                           dp[i][j - 1] + gap)\n",
    "            if dp[i][j] > max_score:\n",
    "                max_score = dp[i][j]\n",
    "                max_pos = (i, j)\n",
    "    \n",
    "    # dосстановление выравнивания\n",
    "    aligned_seq1 = []\n",
    "    aligned_seq2 = []\n",
    "    \n",
    "    i, j = max_pos\n",
    "    while dp[i][j] > 0:\n",
    "        current_score = dp[i][j]\n",
    "        \n",
    "        # если символы совпали или произошло несовпадение\n",
    "        if i > 0 and j > 0 and current_score == dp[i - 1][j - 1] + ((match if seq1[i - 1] == seq2[j - 1] else mismatch)):\n",
    "            aligned_seq1.append(seq1[i - 1])\n",
    "            aligned_seq2.append(seq2[j - 1])\n",
    "            i -= 1\n",
    "            j -= 1\n",
    "        # если пропуск в seq2\n",
    "        elif i > 0 and current_score == dp[i - 1][j] + gap:\n",
    "            aligned_seq1.append(seq1[i - 1])\n",
    "            aligned_seq2.append('-')\n",
    "            i -= 1\n",
    "        # если пропуск в seq1\n",
    "        elif j > 0 and current_score == dp[i][j - 1] + gap:\n",
    "            aligned_seq1.append('-')\n",
    "            aligned_seq2.append(seq2[j - 1])\n",
    "            j -= 1\n",
    "    \n",
    "    # обратим строки\n",
    "    aligned_seq1.reverse()\n",
    "    aligned_seq2.reverse()\n",
    "    \n",
    "    return max_score, aligned_seq1, aligned_seq2"
   ]
  },
  {
   "cell_type": "code",
   "execution_count": 42,
   "id": "886d404c-7107-487c-81a5-932b33f520b2",
   "metadata": {},
   "outputs": [
    {
     "data": {
      "text/plain": [
       "(13,\n",
       " ['A', 'T', 'C', 'G', 'T', 'A', '-', 'G'],\n",
       " ['A', 'T', 'C', 'G', 'T', 'A', 'C', 'G'])"
      ]
     },
     "execution_count": 42,
     "metadata": {},
     "output_type": "execute_result"
    }
   ],
   "source": [
    "smith_waterman(seq1, seq2)"
   ]
  },
  {
   "cell_type": "code",
   "execution_count": 43,
   "id": "15696482-4533-480b-84b9-3bf44f9ea24e",
   "metadata": {},
   "outputs": [
    {
     "data": {
      "text/plain": [
       "(9, ['C', 'G', 'T', 'A', 'G', 'C'], ['C', '-', 'T', 'A', 'G', 'C'])"
      ]
     },
     "execution_count": 43,
     "metadata": {},
     "output_type": "execute_result"
    }
   ],
   "source": [
    "smith_waterman(seq1, seq3)"
   ]
  },
  {
   "cell_type": "code",
   "execution_count": 44,
   "id": "0339f7ab-bd9c-4163-8e9c-4b65c6908803",
   "metadata": {},
   "outputs": [
    {
     "name": "stdout",
     "output_type": "stream",
     "text": [
      "Defaulting to user installation because normal site-packages is not writeable\n",
      "Collecting biopython\n",
      "  Downloading biopython-1.83-cp38-cp38-manylinux_2_17_x86_64.manylinux2014_x86_64.whl (3.1 MB)\n",
      "\u001b[K     |████████████████████████████████| 3.1 MB 123 kB/s eta 0:00:01\n",
      "\u001b[?25hRequirement already satisfied: numpy in /home/mmokhina/.local/lib/python3.8/site-packages (from biopython) (1.24.4)\n",
      "Installing collected packages: biopython\n",
      "Successfully installed biopython-1.83\n",
      "Note: you may need to restart the kernel to use updated packages.\n"
     ]
    }
   ],
   "source": [
    "pip install biopython\n"
   ]
  },
  {
   "cell_type": "code",
   "execution_count": 46,
   "id": "d31ef2db-495b-4132-bf69-2fb5b808c369",
   "metadata": {},
   "outputs": [
    {
     "name": "stdout",
     "output_type": "stream",
     "text": [
      "Выравнивание:  Alignment(seqA='ATCGTAGC-', seqB='ATCGTA-CG', score=7.0, start=0, end=9)\n",
      "Выравнивание:  Alignment(seqA='ATCGTA-GC', seqB='ATCGTACG-', score=7.0, start=0, end=9)\n"
     ]
    }
   ],
   "source": [
    "from Bio import pairwise2\n",
    "\n",
    "# Выполняем глобальное выравнивание\n",
    "alignments = pairwise2.align.globalxx(seq1, seq2)\n",
    "\n",
    "# Выводим результат\n",
    "for alignment in alignments:\n",
    "    print(\"Выравнивание: \", alignment)"
   ]
  },
  {
   "cell_type": "code",
   "execution_count": null,
   "id": "4c434959-e78e-4d00-9bd2-072d650f65bc",
   "metadata": {},
   "outputs": [],
   "source": []
  },
  {
   "cell_type": "code",
   "execution_count": null,
   "id": "c2f2b5b6-f0a8-4f61-b9df-4a2b58b3374e",
   "metadata": {},
   "outputs": [],
   "source": []
  },
  {
   "cell_type": "code",
   "execution_count": null,
   "id": "bad28b92-0380-4267-b216-bc4c1c5a97ee",
   "metadata": {},
   "outputs": [],
   "source": []
  }
 ],
 "metadata": {
  "kernelspec": {
   "display_name": "Python 3 (ipykernel)",
   "language": "python",
   "name": "python3"
  },
  "language_info": {
   "codemirror_mode": {
    "name": "ipython",
    "version": 3
   },
   "file_extension": ".py",
   "mimetype": "text/x-python",
   "name": "python",
   "nbconvert_exporter": "python",
   "pygments_lexer": "ipython3",
   "version": "3.8.12"
  }
 },
 "nbformat": 4,
 "nbformat_minor": 5
}
