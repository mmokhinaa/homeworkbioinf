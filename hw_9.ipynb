{
 "cells": [
  {
   "cell_type": "code",
   "execution_count": 3,
   "id": "094f33f1-b77e-415c-a47f-74c31489502e",
   "metadata": {},
   "outputs": [],
   "source": [
    "data = [79, 80, 80, 80, 74, 80, 80, 79, 64, 78, 73, 78, 74, 45, 81, 48, 80, 82, 82, 70]"
   ]
  },
  {
   "cell_type": "code",
   "execution_count": 5,
   "id": "26a971c1-0e08-4614-b519-5da4b10c1490",
   "metadata": {},
   "outputs": [],
   "source": [
    "import numpy as np\n",
    "import matplotlib.pyplot as plt"
   ]
  },
  {
   "cell_type": "code",
   "execution_count": 6,
   "id": "734168e6-8d79-4ace-8a9e-6ddc76c4b283",
   "metadata": {},
   "outputs": [],
   "source": [
    "q25, median, q75 = np.percentile(data, [25, 50, 75])"
   ]
  },
  {
   "cell_type": "code",
   "execution_count": 7,
   "id": "1158dde0-c5a4-4871-b364-7a6a90290f5d",
   "metadata": {},
   "outputs": [],
   "source": [
    "# Межквартильный размах\n",
    "iqr = q75 - q25"
   ]
  },
  {
   "cell_type": "code",
   "execution_count": 8,
   "id": "fbe7c6e9-20bf-4f29-9be5-07778134bc12",
   "metadata": {},
   "outputs": [],
   "source": [
    "# Минимум, максимум\n",
    "minimum = np.min(data)\n",
    "maximum = np.max(data)"
   ]
  },
  {
   "cell_type": "code",
   "execution_count": 9,
   "id": "d0634c73-315f-4681-ae85-960f213a62a1",
   "metadata": {},
   "outputs": [],
   "source": [
    "# Потенциальные выбросы\n",
    "lower_bound = q25 - 1.5 * iqr\n",
    "upper_bound = q75 + 1.5 * iqr\n",
    "outliers = [x for x in data if x < lower_bound or x > upper_bound]"
   ]
  },
  {
   "cell_type": "code",
   "execution_count": 10,
   "id": "58f678fe-3a32-46db-8b1d-9580cc57b8f3",
   "metadata": {},
   "outputs": [
    {
     "data": {
      "image/png": "[encoded data removed]",
      "text/plain": [
       "<Figure size 432x288 with 1 Axes>"
      ]
     },
     "metadata": {
      "needs_background": "light"
     },
     "output_type": "display_data"
    }
   ],
   "source": [
    "# Построение ящика с усами\n",
    "plt.boxplot(data)\n",
    "plt.title(\"Ящик с усами\")\n",
    "plt.show()"
   ]
  },
  {
   "cell_type": "code",
   "execution_count": 11,
   "id": "e58a268f-59f4-4e63-ad05-b5172bed032b",
   "metadata": {},
   "outputs": [
    {
     "data": {
      "text/plain": [
       "(45, 73.75, 79.0, 80.0, 82, [64, 45, 48], 6.25)"
      ]
     },
     "execution_count": 11,
     "metadata": {},
     "output_type": "execute_result"
    }
   ],
   "source": [
    "# Результаты\n",
    "minimum, q25, median, q75, maximum, outliers, iqr"
   ]
  },
  {
   "cell_type": "code",
   "execution_count": null,
   "id": "bff2d3b8-0b95-43af-abab-b54489773805",
   "metadata": {},
   "outputs": [],
   "source": []
  }
 ],
 "metadata": {
  "kernelspec": {
   "display_name": "Python 3 (ipykernel)",
   "language": "python",
   "name": "python3"
  },
  "language_info": {
   "codemirror_mode": {
    "name": "ipython",
    "version": 3
   },
   "file_extension": ".py",
   "mimetype": "text/x-python",
   "name": "python",
   "nbconvert_exporter": "python",
   "pygments_lexer": "ipython3",
   "version": "3.8.12"
  }
 },
 "nbformat": 4,
 "nbformat_minor": 5
}
