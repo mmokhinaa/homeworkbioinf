{
 "cells": [
  {
   "cell_type": "code",
   "execution_count": 16,
   "id": "9b88976f-dd36-4c7e-9292-8f27dcb66767",
   "metadata": {},
   "outputs": [],
   "source": [
    "import pandas as pd\n",
    "import matplotlib.pyplot as plt\n",
    "from IPython.display import Image, display, Markdown"
   ]
  },
  {
   "cell_type": "code",
   "execution_count": 17,
   "id": "fc88d16c-12c3-47e5-9950-7115563de84f",
   "metadata": {},
   "outputs": [
    {
     "data": {
      "text/markdown": [
       "## 1. Работа с таблицей"
      ],
      "text/plain": [
       "<IPython.core.display.Markdown object>"
      ]
     },
     "execution_count": 17,
     "metadata": {},
     "output_type": "execute_result"
    }
   ],
   "source": [
    "Markdown(\"## 1. Работа с таблицей\")"
   ]
  },
  {
   "cell_type": "code",
   "execution_count": 18,
   "id": "2e0c5bcf-821f-4fa9-a87a-7ca0aee9871c",
   "metadata": {},
   "outputs": [
    {
     "data": {
      "text/markdown": [
       "### 1.1 Чтение таблицы"
      ],
      "text/plain": [
       "<IPython.core.display.Markdown object>"
      ]
     },
     "execution_count": 18,
     "metadata": {},
     "output_type": "execute_result"
    }
   ],
   "source": [
    "Markdown(\"### 1.1 Чтение таблицы\")"
   ]
  },
  {
   "cell_type": "code",
   "execution_count": 19,
   "id": "7b176791-ea6a-44f6-9ba9-98a6d0727468",
   "metadata": {},
   "outputs": [],
   "source": [
    "df = pd.read_csv('TRB_10_7/TRB_10_7.tsv')\n"
   ]
  },
  {
   "cell_type": "code",
   "execution_count": 20,
   "id": "62b12687-8975-425e-86b3-830b7a5d77db",
   "metadata": {},
   "outputs": [
    {
     "data": {
      "text/html": [
       "<div>\n",
       "<style scoped>\n",
       "    .dataframe tbody tr th:only-of-type {\n",
       "        vertical-align: middle;\n",
       "    }\n",
       "\n",
       "    .dataframe tbody tr th {\n",
       "        vertical-align: top;\n",
       "    }\n",
       "\n",
       "    .dataframe thead th {\n",
       "        text-align: right;\n",
       "    }\n",
       "</style>\n",
       "<table border=\"1\" class=\"dataframe\">\n",
       "  <thead>\n",
       "    <tr style=\"text-align: right;\">\n",
       "      <th></th>\n",
       "      <th>TGTGCCAGCAGCGGTAGGGGGACACTATTGGGCACCTTC\\tCASSGRGTLLGTF\\tTRBV7-9\\tTRBJ1-2</th>\n",
       "    </tr>\n",
       "  </thead>\n",
       "  <tbody>\n",
       "    <tr>\n",
       "      <th>0</th>\n",
       "      <td>TGTGGACGGAAGGACGAGCAGTACTTC\\tCGRKDEQYF\\tTRBV20...</td>\n",
       "    </tr>\n",
       "    <tr>\n",
       "      <th>1</th>\n",
       "      <td>TGCAGTGCTCGGGGCGTCTTCTCTGAAGCTTTCTTT\\tCSARGVFS...</td>\n",
       "    </tr>\n",
       "    <tr>\n",
       "      <th>2</th>\n",
       "      <td>TGTGCCACCAATGACAGGGGGCGCACCTACAATGAGCAGTTCTTC\\...</td>\n",
       "    </tr>\n",
       "    <tr>\n",
       "      <th>3</th>\n",
       "      <td>TGTGCCAGCAGTTTAGCTGGACTAGCGGGTTGTCGGAAGTTGACGG...</td>\n",
       "    </tr>\n",
       "    <tr>\n",
       "      <th>4</th>\n",
       "      <td>TGTGCCAGCAGCGTAGCAGGGGCGGGGAGTAGCTCCTACGAGCAGT...</td>\n",
       "    </tr>\n",
       "  </tbody>\n",
       "</table>\n",
       "</div>"
      ],
      "text/plain": [
       "  TGTGCCAGCAGCGGTAGGGGGACACTATTGGGCACCTTC\\tCASSGRGTLLGTF\\tTRBV7-9\\tTRBJ1-2\n",
       "0  TGTGGACGGAAGGACGAGCAGTACTTC\\tCGRKDEQYF\\tTRBV20...                      \n",
       "1  TGCAGTGCTCGGGGCGTCTTCTCTGAAGCTTTCTTT\\tCSARGVFS...                      \n",
       "2  TGTGCCACCAATGACAGGGGGCGCACCTACAATGAGCAGTTCTTC\\...                      \n",
       "3  TGTGCCAGCAGTTTAGCTGGACTAGCGGGTTGTCGGAAGTTGACGG...                      \n",
       "4  TGTGCCAGCAGCGTAGCAGGGGCGGGGAGTAGCTCCTACGAGCAGT...                      "
      ]
     },
     "metadata": {},
     "output_type": "display_data"
    }
   ],
   "source": [
    "display(df.head())"
   ]
  },
  {
   "cell_type": "code",
   "execution_count": 21,
   "id": "cd3a18a0-a2ec-4c05-9770-9de588bb9e42",
   "metadata": {},
   "outputs": [],
   "source": [
    "df = pd.read_csv('TRB_10_7/TRB_10_7.tsv', sep='\\t')"
   ]
  },
  {
   "cell_type": "code",
   "execution_count": 22,
   "id": "37a9df9b-e585-4478-b068-1c6c39b96320",
   "metadata": {},
   "outputs": [
    {
     "data": {
      "text/html": [
       "<div>\n",
       "<style scoped>\n",
       "    .dataframe tbody tr th:only-of-type {\n",
       "        vertical-align: middle;\n",
       "    }\n",
       "\n",
       "    .dataframe tbody tr th {\n",
       "        vertical-align: top;\n",
       "    }\n",
       "\n",
       "    .dataframe thead th {\n",
       "        text-align: right;\n",
       "    }\n",
       "</style>\n",
       "<table border=\"1\" class=\"dataframe\">\n",
       "  <thead>\n",
       "    <tr style=\"text-align: right;\">\n",
       "      <th></th>\n",
       "      <th>TGTGCCAGCAGCGGTAGGGGGACACTATTGGGCACCTTC</th>\n",
       "      <th>CASSGRGTLLGTF</th>\n",
       "      <th>TRBV7-9</th>\n",
       "      <th>TRBJ1-2</th>\n",
       "    </tr>\n",
       "  </thead>\n",
       "  <tbody>\n",
       "    <tr>\n",
       "      <th>0</th>\n",
       "      <td>TGTGGACGGAAGGACGAGCAGTACTTC</td>\n",
       "      <td>CGRKDEQYF</td>\n",
       "      <td>TRBV20-1</td>\n",
       "      <td>TRBJ2-7</td>\n",
       "    </tr>\n",
       "    <tr>\n",
       "      <th>1</th>\n",
       "      <td>TGCAGTGCTCGGGGCGTCTTCTCTGAAGCTTTCTTT</td>\n",
       "      <td>CSARGVFSEAFF</td>\n",
       "      <td>TRBV20-1</td>\n",
       "      <td>TRBJ1-1</td>\n",
       "    </tr>\n",
       "    <tr>\n",
       "      <th>2</th>\n",
       "      <td>TGTGCCACCAATGACAGGGGGCGCACCTACAATGAGCAGTTCTTC</td>\n",
       "      <td>CATNDRGRTYNEQFF</td>\n",
       "      <td>TRBV24-1</td>\n",
       "      <td>TRBJ2-1</td>\n",
       "    </tr>\n",
       "    <tr>\n",
       "      <th>3</th>\n",
       "      <td>TGTGCCAGCAGTTTAGCTGGACTAGCGGGTTGTCGGAAGTTGACGG...</td>\n",
       "      <td>CASSLAGLAGCRKLTEETQYF</td>\n",
       "      <td>TRBV27</td>\n",
       "      <td>TRBJ2-5</td>\n",
       "    </tr>\n",
       "    <tr>\n",
       "      <th>4</th>\n",
       "      <td>TGTGCCAGCAGCGTAGCAGGGGCGGGGAGTAGCTCCTACGAGCAGT...</td>\n",
       "      <td>CASSVAGAGSSSYEQYF</td>\n",
       "      <td>TRBV9</td>\n",
       "      <td>TRBJ2-7</td>\n",
       "    </tr>\n",
       "  </tbody>\n",
       "</table>\n",
       "</div>"
      ],
      "text/plain": [
       "             TGTGCCAGCAGCGGTAGGGGGACACTATTGGGCACCTTC          CASSGRGTLLGTF  \\\n",
       "0                        TGTGGACGGAAGGACGAGCAGTACTTC              CGRKDEQYF   \n",
       "1               TGCAGTGCTCGGGGCGTCTTCTCTGAAGCTTTCTTT           CSARGVFSEAFF   \n",
       "2      TGTGCCACCAATGACAGGGGGCGCACCTACAATGAGCAGTTCTTC        CATNDRGRTYNEQFF   \n",
       "3  TGTGCCAGCAGTTTAGCTGGACTAGCGGGTTGTCGGAAGTTGACGG...  CASSLAGLAGCRKLTEETQYF   \n",
       "4  TGTGCCAGCAGCGTAGCAGGGGCGGGGAGTAGCTCCTACGAGCAGT...      CASSVAGAGSSSYEQYF   \n",
       "\n",
       "    TRBV7-9  TRBJ1-2  \n",
       "0  TRBV20-1  TRBJ2-7  \n",
       "1  TRBV20-1  TRBJ1-1  \n",
       "2  TRBV24-1  TRBJ2-1  \n",
       "3    TRBV27  TRBJ2-5  \n",
       "4     TRBV9  TRBJ2-7  "
      ]
     },
     "metadata": {},
     "output_type": "display_data"
    }
   ],
   "source": [
    "display(df.head())"
   ]
  },
  {
   "cell_type": "code",
   "execution_count": 13,
   "id": "a8e2c4d8-6bd3-4744-8471-600fe702d413",
   "metadata": {},
   "outputs": [
    {
     "data": {
      "text/markdown": [
       "### 1.2 Построение графика"
      ],
      "text/plain": [
       "<IPython.core.display.Markdown object>"
      ]
     },
     "execution_count": 13,
     "metadata": {},
     "output_type": "execute_result"
    }
   ],
   "source": [
    "Markdown(\"### 1.2 Построение графика\")"
   ]
  },
  {
   "cell_type": "code",
   "execution_count": 23,
   "id": "1aa1d7ec-d8a5-4528-b5f3-8256ff206c5a",
   "metadata": {},
   "outputs": [
    {
     "name": "stdout",
     "output_type": "stream",
     "text": [
      "(9999999, 4)\n"
     ]
    }
   ],
   "source": [
    "print(df.shape)"
   ]
  },
  {
   "cell_type": "code",
   "execution_count": 26,
   "id": "7d548b50-c51b-4340-8a37-eb6af9159cc2",
   "metadata": {},
   "outputs": [
    {
     "name": "stdout",
     "output_type": "stream",
     "text": [
      "Index(['TGTGCCAGCAGCGGTAGGGGGACACTATTGGGCACCTTC', 'CASSGRGTLLGTF', 'TRBV7-9',\n",
      "       'TRBJ1-2'],\n",
      "      dtype='object')\n"
     ]
    }
   ],
   "source": [
    "print(df.columns)"
   ]
  },
  {
   "cell_type": "code",
   "execution_count": 25,
   "id": "fc1be0a8-8b1c-4a42-8757-665657edc29d",
   "metadata": {},
   "outputs": [
    {
     "data": {
      "image/png": "[encoded data removed]",
      "text/plain": [
       "<Figure size 720x432 with 1 Axes>"
      ]
     },
     "metadata": {
      "needs_background": "light"
     },
     "output_type": "display_data"
    }
   ],
   "source": [
    "df = pd.read_csv('TRB_10_7/TRB_10_7.tsv', sep='\\t', header=None, names=['Sequence', 'AminoAcid', 'TRBV', 'TRBJ'])\n",
    "\n",
    "df['sequence_length'] = df['AminoAcid'].apply(len)\n",
    "\n",
    "# Построение графика\n",
    "plt.figure(figsize=(10, 6))\n",
    "plt.plot(df['sequence_length'], marker='o', color='skyblue', linestyle='-', linewidth=2)\n",
    "\n",
    "# Настройки графика\n",
    "plt.title('Plot of Amino Acid Sequence Lengths')\n",
    "plt.xlabel('Index')\n",
    "plt.ylabel('Sequence Length')\n",
    "plt.grid(True)\n",
    "\n",
    "# Отображение графика\n",
    "plt.show()"
   ]
  },
  {
   "cell_type": "code",
   "execution_count": 28,
   "id": "8aaa2358-c708-495a-833e-abfffb96cc69",
   "metadata": {},
   "outputs": [
    {
     "data": {
      "text/markdown": [
       "## 2. Картинка"
      ],
      "text/plain": [
       "<IPython.core.display.Markdown object>"
      ]
     },
     "execution_count": 28,
     "metadata": {},
     "output_type": "execute_result"
    }
   ],
   "source": [
    "Markdown(\"## 2. Картинка\")"
   ]
  },
  {
   "cell_type": "markdown",
   "id": "9a7bbe6c-28ed-41e3-ae16-93c4973bf7ef",
   "metadata": {},
   "source": [
    "![картинка](644022ee266a2411ceddff67ee9ff5fd.jpg)"
   ]
  },
  {
   "cell_type": "code",
   "execution_count": null,
   "id": "aece2dde-0f0b-4cc7-8755-194ab7a8bce0",
   "metadata": {},
   "outputs": [],
   "source": []
  }
 ],
 "metadata": {
  "kernelspec": {
   "display_name": "Python 3 (ipykernel)",
   "language": "python",
   "name": "python3"
  },
  "language_info": {
   "codemirror_mode": {
    "name": "ipython",
    "version": 3
   },
   "file_extension": ".py",
   "mimetype": "text/x-python",
   "name": "python",
   "nbconvert_exporter": "python",
   "pygments_lexer": "ipython3",
   "version": "3.8.12"
  }
 },
 "nbformat": 4,
 "nbformat_minor": 5
}
